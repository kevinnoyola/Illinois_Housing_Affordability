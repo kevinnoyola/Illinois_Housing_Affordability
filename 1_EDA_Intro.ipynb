{
 "cells": [
  {
   "cell_type": "markdown",
   "metadata": {},
   "source": [
    "# Exploratory Data Analysis & Intro"
   ]
  },
  {
   "cell_type": "markdown",
   "metadata": {},
   "source": [
    "### Goal\n",
    "1. Investigate Illnois housing by counties \n",
    "2. Use python to explore a live dataset from FRED\n",
    "3. Discover insights to better understand the housing market in Illinois counties"
   ]
  },
  {
   "cell_type": "markdown",
   "metadata": {},
   "source": [
    "### Final Deliverables:\n",
    "* Create Jupyter Notebooks (showingcasing core skills in Python)\n",
    "* Create a summary page (via README.md) capturing the findings\n",
    "* Share project via GitHub & LinkedIn."
   ]
  },
  {
   "cell_type": "markdown",
   "metadata": {},
   "source": [
    "### Questions to Answer\n",
    "1. How does affordability vary across Illinois counties?\n",
    "2. How is Illinois housing inventory listings trending over time?\n",
    "3. What are the population trends in Illinois counties?"
   ]
  },
  {
   "cell_type": "markdown",
   "metadata": {},
   "source": [
    "## Exploratory Data Analysis for 33 Illinois Counties\n",
    "### Home Listing Prices to Explore"
   ]
  },
  {
   "cell_type": "code",
   "execution_count": null,
   "metadata": {},
   "outputs": [],
   "source": [
    "# Importing Libraries\n",
    "import pandas as pd\n",
    "import numpy as np \n",
    "import seaborn as sns\n",
    "import matplotlib.pyplot as plt\n",
    "from matplotlib.ticker import FuncFormatter\n",
    "import fredapi as fa\n",
    "fred = fa.Fred(api_key=api_key)\n",
    "\n",
    "# Loading Data\n",
    "counties_data = pd.read_csv(r'/csv_files/Counties.csv')\n",
    "\n",
    "# Extracting Data and Cleanup\n",
    "\n",
    "dataframes = []\n",
    "# Loop through each county and fetch data from FRED\n",
    "for index, row in counties_data.iterrows():\n",
    "    county_name = row['county_name']\n",
    "    series_id = row['series_id']\n",
    "\n",
    "    try:\n",
    "        data = fred.get_series(series_id)\n",
    "        data = data.to_frame(name='median_price')\n",
    "        data['median_price'] = data['median_price'].astype(int) #converts median listing price to int\n",
    "        data['county_name'] = county_name\n",
    "        data['year'] = data.index.year\n",
    "        mask = data['year'].apply(lambda x: x < 2023) #filter data by year to match other datasets\n",
    "        filtered_data = data[mask]\n",
    "        dataframes.append(filtered_data)\n",
    "    except Exception as e:\n",
    "        print(f\"Error retrieving data for {county_name}: {e}\")\n",
    "\n",
    "# Combine DataFrames\n",
    "combined_df = pd.concat(dataframes)\n",
    "combined_df = combined_df.reset_index()\n",
    "combined_df.rename(columns={'index': 'Date'}, inplace=True) #readjusts column after resetting\n",
    "\n",
    "\n",
    "print(combined_df)"
   ]
  },
  {
   "cell_type": "code",
   "execution_count": null,
   "metadata": {},
   "outputs": [],
   "source": [
    "price_mean = combined_df.groupby('county_name')['median_price'].mean().sort_values(ascending=False).reset_index().head(10)\n",
    "\n",
    "sns.barplot(x='median_price', y='county_name', data=price_mean, orient='h', palette='viridis')\n",
    "\n",
    "plt.title('Average Median House Listing Price by County')\n",
    "plt.ylabel('')\n",
    "plt.xlabel('Median House Listing Price')\n",
    "plt.grid(axis='x', linestyle='--', alpha=0.7)\n",
    "plt.gca().xaxis.set_major_formatter(FuncFormatter(lambda x, pos: f'{int(x / 1000)}K'))\n",
    "plt.show()"
   ]
  },
  {
   "cell_type": "markdown",
   "metadata": {},
   "source": [
    "![Average Median House Listing Price by County](images\\Avg-Median-Listing-Price-Counties.png)\n"
   ]
  },
  {
   "cell_type": "markdown",
   "metadata": {},
   "source": [
    "### Household Income to Explore\n"
   ]
  },
  {
   "cell_type": "code",
   "execution_count": null,
   "metadata": {},
   "outputs": [],
   "source": [
    "#group by county and take mean \n",
    "household_income_mean = combined_income_df.groupby('county_name')['household_income'].mean().sort_values(ascending=False).reset_index().head(10)\n",
    "\n",
    "sns.barplot(x='household_income', y='county_name', data=household_income_mean, orient='h', palette='viridis')\n",
    "\n",
    "plt.title('Average Median Household Income by County')\n",
    "plt.ylabel('')\n",
    "plt.xlabel('Median Household Income')\n",
    "plt.grid(axis='x', linestyle='--', alpha=0.7)\n",
    "plt.gca().xaxis.set_major_formatter(FuncFormatter(lambda x, pos: f'{int(x / 1000)}K'))\n",
    "plt.show()\n"
   ]
  },
  {
   "cell_type": "markdown",
   "metadata": {},
   "source": [
    "![Average Median Household Income by County](images\\Avg-Median-Household-Income-Counties.png)"
   ]
  },
  {
   "cell_type": "markdown",
   "metadata": {},
   "source": [
    "### Explore Percentage of New Listings"
   ]
  },
  {
   "cell_type": "code",
   "execution_count": null,
   "metadata": {},
   "outputs": [],
   "source": [
    "#group by county and take mean \n",
    "new_listings_mean = combined_listings_df.groupby('county_name')['new_listings'].mean().sort_values(ascending=False).reset_index().head(10)\n",
    "\n",
    "sns.barplot(x='new_listings', y='county_name', data=new_listings_mean, orient='h', palette='dark:b_r')\n",
    "\n",
    "plt.title('Average Percentage of New Listings by County')\n",
    "plt.ylabel('')\n",
    "plt.xlabel('Percentage of New Listings')\n",
    "plt.grid(axis='x', linestyle='--', alpha=0.7)\n",
    "plt.gca().xaxis.set_major_formatter(FuncFormatter(lambda x, pos: f'{x}%'))\n",
    "plt.show()"
   ]
  },
  {
   "cell_type": "markdown",
   "metadata": {},
   "source": [
    "![Average Percentage of New Listings](images\\Avg-Pct-New-Listings-Counties.png)"
   ]
  },
  {
   "cell_type": "markdown",
   "metadata": {},
   "source": [
    "### Populations to Explore"
   ]
  },
  {
   "cell_type": "code",
   "execution_count": null,
   "metadata": {},
   "outputs": [],
   "source": [
    "#group by county and take mean \n",
    "population_mean = combined_pop_df.groupby('county_name')['population'].mean().sort_values(ascending=False).reset_index().head(10)\n",
    "\n",
    "sns.barplot(x='population', y='county_name', data=population_mean, orient='h', palette='dark:b_r')\n",
    "\n",
    "plt.title('Average Population by County')\n",
    "plt.ylabel('')\n",
    "plt.xlabel('Population')\n",
    "plt.grid(axis='x', linestyle='--', alpha=0.7)\n",
    "plt.gca().xaxis.set_major_formatter(FuncFormatter(lambda x, pos: f'{int(x / 1000)}M'))\n",
    "plt.show()"
   ]
  },
  {
   "cell_type": "markdown",
   "metadata": {},
   "source": [
    "![Average Population by County](images\\Avg-Population-Counties.png)"
   ]
  }
 ],
 "metadata": {
  "kernelspec": {
   "display_name": "il_housing",
   "language": "python",
   "name": "python3"
  },
  "language_info": {
   "codemirror_mode": {
    "name": "ipython",
    "version": 3
   },
   "file_extension": ".py",
   "mimetype": "text/x-python",
   "name": "python",
   "nbconvert_exporter": "python",
   "pygments_lexer": "ipython3",
   "version": "3.11.9"
  }
 },
 "nbformat": 4,
 "nbformat_minor": 2
}
