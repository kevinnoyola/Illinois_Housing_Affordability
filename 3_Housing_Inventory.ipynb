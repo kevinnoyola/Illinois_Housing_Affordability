{
 "cells": [
  {
   "cell_type": "markdown",
   "metadata": {},
   "source": [
    "# How is Illinois housing inventory trending over time?\n",
    "#### Methodology\n",
    "1. Extract, combine, and clean data\n",
    "2. Calculate average percentages of new listings \n",
    "4. Create scatter plot all counties over time "
   ]
  },
  {
   "cell_type": "markdown",
   "metadata": {},
   "source": [
    "### Import Libraries and Data"
   ]
  },
  {
   "cell_type": "code",
   "execution_count": 1,
   "metadata": {},
   "outputs": [
    {
     "name": "stdout",
     "output_type": "stream",
     "text": [
      "           Date  new_listings           county_name month  year\n",
      "0    2017-07-01          2.70      Adams County, IL   Jul  2017\n",
      "1    2017-08-01          0.00      Adams County, IL   Aug  2017\n",
      "2    2017-09-01          5.26      Adams County, IL   Sep  2017\n",
      "3    2017-10-01         10.00      Adams County, IL   Oct  2017\n",
      "4    2017-11-01        -27.27      Adams County, IL   Nov  2017\n",
      "...         ...           ...                   ...   ...   ...\n",
      "2800 2024-03-01         31.31  Winnebago County, IL   Mar  2024\n",
      "2801 2024-04-01         -1.54  Winnebago County, IL   Apr  2024\n",
      "2802 2024-05-01         23.44  Winnebago County, IL   May  2024\n",
      "2803 2024-06-01          6.33  Winnebago County, IL   Jun  2024\n",
      "2804 2024-07-01         -5.95  Winnebago County, IL   Jul  2024\n",
      "\n",
      "[2805 rows x 5 columns]\n"
     ]
    }
   ],
   "source": [
    "import pandas as pd\n",
    "import matplotlib.pyplot as plt\n",
    "import fredapi as fa\n",
    "import seaborn as sns\n",
    "\n",
    "api_key = '4326c34340957958ddf39343ad409053'\n",
    "\n",
    "new_listings_data = pd.read_csv(r'C:/Users/kevin/Documents/analysis_docs/Illinois_Housing_Affordability/csv_files/Counties.csv')\n",
    "fred = fa.Fred(api_key=api_key)\n",
    "\n",
    "# Create an empty list to store DataFrames\n",
    "listings_dataframes = []\n",
    "\n",
    "# Loop through county data and fetch data from FRED\n",
    "for index, row in new_listings_data.iterrows():\n",
    "    county_name = row['county_name']\n",
    "    county_id = row['new_listings']\n",
    "\n",
    "    try:\n",
    "        list_data = fred.get_series(county_id)\n",
    "        list_data = list_data.to_frame(name='new_listings')  # Ensure data is in a DataFrame       \n",
    "        list_data['county_name'] = county_name\n",
    "        list_data['month'] = list_data.index.strftime('%b')\n",
    "        list_data['year'] = list_data.index.year\n",
    "        listings_dataframes.append(list_data)\n",
    "    except Exception as e:\n",
    "        print(f\"Error retrieving data for {county_name}: {e}\")\n",
    "\n",
    "# Combine DataFrames\n",
    "combined_listings_df = pd.concat(listings_dataframes)\n",
    "combined_listings_df = combined_listings_df.reset_index()\n",
    "combined_listings_df.rename(columns={'index': 'Date'}, inplace=True)\n",
    "\n",
    "\n",
    "print(combined_listings_df)"
   ]
  },
  {
   "cell_type": "markdown",
   "metadata": {},
   "source": [
    "### Calculate Average Percentage of New Listings by County"
   ]
  },
  {
   "cell_type": "code",
   "execution_count": 3,
   "metadata": {},
   "outputs": [],
   "source": [
    "# Group by 'county_name' and calculate the mean of 'new_listings'\n",
    "average_new_listings_per_county = combined_listings_df.groupby(['county_name', 'year'])['new_listings'].mean()\n",
    "anl_df = average_new_listings_per_county.to_frame(name='new_listings')"
   ]
  },
  {
   "cell_type": "markdown",
   "metadata": {},
   "source": [
    "### Plot Average Percentage of New Listings by County over Time"
   ]
  },
  {
   "cell_type": "code",
   "execution_count": null,
   "metadata": {},
   "outputs": [],
   "source": [
    "sns.set_style(\"whitegrid\")\n",
    "# Create the scatter plot\n",
    "sns.scatterplot(x='year', y='new_listings', data=anl_df, alpha=0.7)\n",
    "plt.xlabel('year')\n",
    "plt.ylabel('New Listings (%)')\n",
    "plt.title('Average Percentage of New Listings by County Over Time')\n",
    "sns.despine() \n",
    "plt.grid(True)\n",
    "# Format y axis with %\n",
    "plt.gca().yaxis.set_major_formatter(plt.FuncFormatter(lambda y, p: f\"{y:.0f}%\"))\n",
    "plt.show()"
   ]
  },
  {
   "cell_type": "markdown",
   "metadata": {},
   "source": [
    "![Avg Percentage of New Listings by County over Time](images\\Avg-Percentage-New-Listings-Over-Time.png)"
   ]
  },
  {
   "cell_type": "markdown",
   "metadata": {},
   "source": []
  }
 ],
 "metadata": {
  "kernelspec": {
   "display_name": "il_housing",
   "language": "python",
   "name": "python3"
  },
  "language_info": {
   "codemirror_mode": {
    "name": "ipython",
    "version": 3
   },
   "file_extension": ".py",
   "mimetype": "text/x-python",
   "name": "python",
   "nbconvert_exporter": "python",
   "pygments_lexer": "ipython3",
   "version": "3.11.9"
  }
 },
 "nbformat": 4,
 "nbformat_minor": 2
}
