{
 "cells": [
  {
   "cell_type": "markdown",
   "metadata": {},
   "source": [
    "# How does affordability vary across Illinois counties?"
   ]
  },
  {
   "cell_type": "markdown",
   "metadata": {},
   "source": [
    "#### Methodology\n",
    "1. Extract, combine, and clean data\n",
    "2. Merge dataframes\n",
    "3. Calculate home price to income ratio\n",
    "4. Plot final findings "
   ]
  },
  {
   "cell_type": "markdown",
   "metadata": {},
   "source": [
    "### Import Libraries and Data\n"
   ]
  },
  {
   "cell_type": "code",
   "execution_count": 9,
   "metadata": {},
   "outputs": [
    {
     "name": "stdout",
     "output_type": "stream",
     "text": [
      "              county_name  year   median_price\n",
      "0        Adams County, IL  2016  118383.333333\n",
      "1        Adams County, IL  2017  124735.416667\n",
      "2        Adams County, IL  2018  130712.500000\n",
      "3        Adams County, IL  2019  135573.250000\n",
      "4        Adams County, IL  2020  142675.000000\n",
      "..                    ...   ...            ...\n",
      "226  Winnebago County, IL  2018  127492.083333\n",
      "227  Winnebago County, IL  2019  131141.750000\n",
      "228  Winnebago County, IL  2020  137202.750000\n",
      "229  Winnebago County, IL  2021  129516.666667\n",
      "230  Winnebago County, IL  2022  145550.000000\n",
      "\n",
      "[231 rows x 3 columns]\n",
      "          Date  household_income           county_name  year\n",
      "0   2016-01-01             51130      Adams County, IL  2016\n",
      "1   2017-01-01             49088      Adams County, IL  2017\n",
      "2   2018-01-01             55174      Adams County, IL  2018\n",
      "3   2019-01-01             55942      Adams County, IL  2019\n",
      "4   2020-01-01             57434      Adams County, IL  2020\n",
      "..         ...               ...                   ...   ...\n",
      "226 2018-01-01             53795  Winnebago County, IL  2018\n",
      "227 2019-01-01             59510  Winnebago County, IL  2019\n",
      "228 2020-01-01             54971  Winnebago County, IL  2020\n",
      "229 2021-01-01             57113  Winnebago County, IL  2021\n",
      "230 2022-01-01             62557  Winnebago County, IL  2022\n",
      "\n",
      "[231 rows x 4 columns]\n"
     ]
    }
   ],
   "source": [
    "import pandas as pd\n",
    "import numpy as np \n",
    "import matplotlib.pyplot as plt\n",
    "import fredapi as fa\n",
    "import seaborn as sns\n",
    "api_key = 'api-key'\n",
    "\n",
    "fred = fa.Fred(api_key=api_key)\n",
    "\n",
    "counties_data = pd.read_csv(r'/csv_files/Counties.csv')\n",
    "\n",
    "\n",
    "# Create an empty list to store DataFrames\n",
    "dataframes = []\n",
    "\n",
    "# Loop through each county and fetch data from FRED\n",
    "for index, row in counties_data.iterrows():\n",
    "    county_name = row['county_name']\n",
    "    series_id = row['series_id']\n",
    "\n",
    "    try:\n",
    "        data = fred.get_series(series_id)\n",
    "        data = data.to_frame(name='median_price')\n",
    "        data['median_price'] = data['median_price'].astype(int) #converts median listing price to int\n",
    "        data['county_name'] = county_name\n",
    "        data['year'] = data.index.year\n",
    "        mask = data['year'].apply(lambda x: x < 2023) #filter data by year to match other datasets\n",
    "        filtered_data = data[mask]\n",
    "        dataframes.append(filtered_data)\n",
    "    except Exception as e:\n",
    "        print(f\"Error retrieving data for {county_name}: {e}\")\n",
    "\n",
    "# Combine DataFrames\n",
    "combined_df = pd.concat(dataframes)\n",
    "# Aggregate monthly data to yearly\n",
    "combined_df = combined_df.groupby(['county_name','year'])['median_price'].mean().reset_index()\n",
    "combined_df.rename(columns={'index': 'Date'}, inplace=True) #readjust column after resetting\n",
    "\n",
    "\n",
    "print(combined_df)\n",
    "\n",
    "\n",
    "# Create an empty list to store DataFrames\n",
    "income_dataframes = []\n",
    "\n",
    "# Loop through county data and fetch data from FRED\n",
    "for index, row in counties_data.iterrows():\n",
    "    county_name = row['county_name']\n",
    "    household_income = row['hh_income']\n",
    "\n",
    "    try:\n",
    "        income_data = fred.get_series(household_income, start='2016-01-01')\n",
    "        income_data_df = income_data.to_frame(name='household_income')  # Ensure data is in a DataFrame\n",
    "        income_data_df = income_data_df[income_data_df.index >= pd.to_datetime('2016-01-01')]\n",
    "\n",
    "        income_data_df['household_income'] = income_data_df['household_income'].astype(int) #converts to int after fetching\n",
    "        income_data_df['county_name'] = county_name\n",
    "        income_data_df['year'] = income_data_df.index.year\n",
    "\n",
    "        income_dataframes.append(income_data_df)\n",
    "    except Exception as e:\n",
    "        print(f\"Error retrieving data for {county_name}: {e}\")\n",
    "\n",
    "# Combine DataFrames\n",
    "combined_income_df = pd.concat(income_dataframes)\n",
    "combined_income_df = combined_income_df.reset_index()\n",
    "combined_income_df.rename(columns={'index': 'Date'}, inplace=True)\n",
    "\n",
    "\n",
    "print(combined_income_df)"
   ]
  },
  {
   "cell_type": "markdown",
   "metadata": {},
   "source": [
    "### Merge Data\n"
   ]
  },
  {
   "cell_type": "code",
   "execution_count": 10,
   "metadata": {},
   "outputs": [],
   "source": [
    "merged_data = pd.merge(combined_df, combined_income_df, on=['year', 'county_name'], how='outer')\n",
    "merged_data = merged_data.drop('Date', axis=1)"
   ]
  },
  {
   "cell_type": "markdown",
   "metadata": {},
   "source": [
    "### Calculate Home Price to Income Ratio "
   ]
  },
  {
   "cell_type": "code",
   "execution_count": 11,
   "metadata": {},
   "outputs": [
    {
     "name": "stdout",
     "output_type": "stream",
     "text": [
      "               county_name  year   median_price  household_income  pi_ratio\n",
      "0         Adams County, IL  2016  118383.333333             51130  2.315340\n",
      "1     Champaign County, IL  2016  150237.500000             51032  2.943986\n",
      "2         Coles County, IL  2016   85483.333333             42066  2.032124\n",
      "3          Cook County, IL  2016  271391.666667             60025  4.521311\n",
      "4       De Kalb County, IL  2016  169524.666667             59586  2.845042\n",
      "..                     ...   ...            ...               ...       ...\n",
      "226   Vermilion County, IL  2022  101027.083333             52083  1.939732\n",
      "227   Whiteside County, IL  2022  119039.500000             62038  1.918816\n",
      "228        Will County, IL  2022  349919.000000             97076  3.604588\n",
      "229  Williamson County, IL  2022  132104.166667             64152  2.059237\n",
      "230   Winnebago County, IL  2022  145550.000000             62557  2.326678\n",
      "\n",
      "[231 rows x 5 columns]\n"
     ]
    }
   ],
   "source": [
    "merged_data['pi_ratio'] = merged_data['median_price'] / merged_data['household_income']\n",
    "print(merged_data)"
   ]
  },
  {
   "cell_type": "markdown",
   "metadata": {},
   "source": [
    "### Find Top 5 Most and Least Affordable Counties "
   ]
  },
  {
   "cell_type": "markdown",
   "metadata": {},
   "source": [
    "Calculate the mean Home Price to Income Ratio and filter for the highest and lowest 5 counties. "
   ]
  },
  {
   "cell_type": "code",
   "execution_count": null,
   "metadata": {},
   "outputs": [],
   "source": [
    "# Calculate average PIR per county\n",
    "avg_pir = merged_data.groupby('county_name')['pi_ratio'].mean()\n",
    "# Get top 5 counties by average PIR\n",
    "least_affordable_counties = avg_pir.sort_values(ascending=False).head(5).index\n",
    "# Filter data for top 5 counties\n",
    "least_affordable_data = merged_data[merged_data['county_name'].isin(least_affordable_counties)]\n",
    "# Get bottom 5 counties by average PIR\n",
    "most_affordable_counties = avg_pir.sort_values(ascending=True).head(5).index\n",
    "# Filter data for bottom 5 counties\n",
    "most_affordable_data = merged_data[merged_data['county_name'].isin(most_affordable_counties)]"
   ]
  },
  {
   "cell_type": "markdown",
   "metadata": {},
   "source": [
    "Combine variables using pandas concatenate function"
   ]
  },
  {
   "cell_type": "code",
   "execution_count": 13,
   "metadata": {},
   "outputs": [
    {
     "name": "stdout",
     "output_type": "stream",
     "text": [
      "             county_name  year   median_price  household_income  pi_ratio\n",
      "0        Cook County, IL  2016  271391.666667             60025  4.521311\n",
      "1     Du Page County, IL  2016  391453.166667             84999  4.605386\n",
      "2        Kane County, IL  2016  314056.500000             73684  4.262208\n",
      "3        Lake County, IL  2016  375686.666667             83344  4.507663\n",
      "4        Will County, IL  2016  261900.000000             81640  3.207986\n",
      "..                   ...   ...            ...               ...       ...\n",
      "65      Coles County, IL  2022   87952.083333             57712  1.523983\n",
      "66      Henry County, IL  2022  122535.333333             70517  1.737671\n",
      "67   Macoupin County, IL  2022   95970.833333             69880  1.373366\n",
      "68  Vermilion County, IL  2022  101027.083333             52083  1.939732\n",
      "69  Whiteside County, IL  2022  119039.500000             62038  1.918816\n",
      "\n",
      "[70 rows x 5 columns]\n"
     ]
    }
   ],
   "source": [
    "# Combine counties with highest and lowest average pi ratios\n",
    "combined_affordability = pd.concat([least_affordable_data, most_affordable_data], ignore_index=True)\n",
    "\n",
    "print(combined_affordability)"
   ]
  },
  {
   "cell_type": "markdown",
   "metadata": {},
   "source": [
    "### Plot Home Price to Income Ratio by County"
   ]
  },
  {
   "cell_type": "code",
   "execution_count": null,
   "metadata": {},
   "outputs": [],
   "source": [
    "# Create the line plot\n",
    "sns.lineplot(x=\"year\", y=\"pi_ratio\", hue=\"county_name\", data=combined_affordability)\n",
    "plt.xlabel(\"Year\")\n",
    "plt.ylabel(\"Home Price-to-Income Ratio\")\n",
    "plt.title(\"Home Price-to-Income Ratio by County Over Time\")\n",
    "plt.legend(bbox_to_anchor=(1.05, 1), loc='upper left')\n",
    "plt.show()"
   ]
  },
  {
   "cell_type": "markdown",
   "metadata": {},
   "source": [
    "![Home Price to Income Ratio by County over Time](images\\Home-PIR-Counties-Over-Time.png)"
   ]
  }
 ],
 "metadata": {
  "kernelspec": {
   "display_name": "il_housing",
   "language": "python",
   "name": "python3"
  },
  "language_info": {
   "codemirror_mode": {
    "name": "ipython",
    "version": 3
   },
   "file_extension": ".py",
   "mimetype": "text/x-python",
   "name": "python",
   "nbconvert_exporter": "python",
   "pygments_lexer": "ipython3",
   "version": "3.11.9"
  }
 },
 "nbformat": 4,
 "nbformat_minor": 2
}
